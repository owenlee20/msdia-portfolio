{
  "nbformat": 4,
  "nbformat_minor": 0,
  "metadata": {
    "colab": {
      "provenance": [],
      "authorship_tag": "ABX9TyOyw+nvAdSsYnPKX/WErcUy",
      "include_colab_link": true
    },
    "kernelspec": {
      "name": "python3",
      "display_name": "Python 3"
    },
    "language_info": {
      "name": "python"
    }
  },
  "cells": [
    {
      "cell_type": "markdown",
      "metadata": {
        "id": "view-in-github",
        "colab_type": "text"
      },
      "source": [
        "<a href=\"https://colab.research.google.com/github/owenlee20/msdia-portfolio/blob/main/GB745_WebScraping_Lee_O.ipynb\" target=\"_parent\"><img src=\"https://colab.research.google.com/assets/colab-badge.svg\" alt=\"Open In Colab\"/></a>"
      ]
    },
    {
      "cell_type": "markdown",
      "source": [
        "###GB745 - Assignment 6 - Owen Lee\n",
        "#####My tech company has recently received requests from newer, less experienced customers for a one-stop-spot for all information on the latest technology, especially with all the crazy new headlines in the tech world these days. To help them keep up, I began a tech brochure for compiling the best recommendations and information on what's new.\n",
        "#####I curate this brochure, and it details the most exciting and cool tech gear for people that are interested in upgrading their devices. I focus specifically on laptops, and include information on all the latest, highest-rated laptops in my brochure.\n",
        "#####To assist in curating my brochure information and making sure I am staying up to date, I wrote a python program that automates the scraping of a website that contains the information I need.\n",
        "#####Whenever new laptops come out, I can stay up to date by running my program and re-printing the newest edition of my tech brochure."
      ],
      "metadata": {
        "id": "XDCnxvGzM1Kj"
      }
    },
    {
      "cell_type": "code",
      "execution_count": null,
      "metadata": {
        "id": "cfBK1GJcGoXt"
      },
      "outputs": [],
      "source": [
        "# import appropriate libraries for scraping web data.\n",
        "import requests\n",
        "from bs4 import BeautifulSoup\n",
        "import csv"
      ]
    },
    {
      "cell_type": "code",
      "source": [
        "# define the website to be scraped.\n",
        "webpage = requests.get('https://webscraper.io/test-sites/e-commerce/allinone/computers/laptops')"
      ],
      "metadata": {
        "id": "LrIBEaVNGvUW"
      },
      "execution_count": null,
      "outputs": []
    },
    {
      "cell_type": "code",
      "source": [
        "# create a 'mysoup' object to scrape website information.\n",
        "mysoup = BeautifulSoup(webpage.content, 'html.parser')"
      ],
      "metadata": {
        "id": "dHYoVG4XG2_Y"
      },
      "execution_count": null,
      "outputs": []
    },
    {
      "cell_type": "markdown",
      "source": [
        "#####Specific pieces of html can be found by navigating to the website, hovering over a specific section, and right clicking to 'inspect'."
      ],
      "metadata": {
        "id": "Ba4q1iFyNvN0"
      }
    },
    {
      "cell_type": "code",
      "source": [
        "# find all instances of card thumbnails on the website, indicating different laptop selections.\n",
        "laptops = mysoup.find_all(\"div\", class_=\"card thumbnail\")"
      ],
      "metadata": {
        "id": "qf7errr-HOjb"
      },
      "execution_count": null,
      "outputs": []
    },
    {
      "cell_type": "code",
      "source": [
        "# test a loop to ensure desired information is pulled and looped through correctly.\n",
        "for laptop in laptops:\n",
        "\n",
        "  price = laptop.find(\"h4\", class_=\"price float-end card-title pull-right\")\n",
        "\n",
        "  print(price.text)"
      ],
      "metadata": {
        "id": "CJRKAVujHrxr"
      },
      "execution_count": null,
      "outputs": []
    },
    {
      "cell_type": "markdown",
      "source": [
        "#####Using a loop and defining multiple variables allows me to gather important information on multiple aspects of a product. Using python for automation leaves endless possibilities for future enhancements."
      ],
      "metadata": {
        "id": "d6HYxha1N_qb"
      }
    },
    {
      "cell_type": "code",
      "source": [
        "# add more to loop and print results for additionally defined variables.\n",
        "for laptop in laptops:\n",
        "\n",
        "  product_name = laptop.find(\"a\", class_=\"title\")['title'].strip() # ['title'] used to access the title attribute in the title class.\n",
        "  price = laptop.find(\"h4\", class_=\"price float-end card-title pull-right\").text.strip()\n",
        "  description = laptop.find(\"p\", class_=\"description card-text\").text.strip()\n",
        "  num_reviews = laptop.find(\"p\", class_=\"review-count float-end\").text.strip()\n",
        "\n",
        "  # find the stars within the div with class \"ratings\"\n",
        "  rating_div = laptop.find(\"div\", class_=\"ratings\")\n",
        "  stars = rating_div.find_all(\"span\", class_=\"ws-icon ws-icon-star\")\n",
        "\n",
        "  # the rating is represented by the number of stars\n",
        "  rating = len(stars)  # length is the 'number' of stars\n",
        "\n",
        "  print(product_name)\n",
        "  print(price)\n",
        "  print(description)\n",
        "  print(num_reviews)\n",
        "  print(rating)\n",
        "  print()"
      ],
      "metadata": {
        "id": "enGXp93AIV7U"
      },
      "execution_count": null,
      "outputs": []
    },
    {
      "cell_type": "markdown",
      "source": [
        "#####Creating a .csv file is a useful way to get all of my desired information into Excel where I can organize and manipulate the data for my brochure. My customers appreciate when I display the highest quality products with the most positive reviews."
      ],
      "metadata": {
        "id": "e-aJczrxOSAQ"
      }
    },
    {
      "cell_type": "code",
      "source": [
        "# create a csv file to write scraped information to.\n",
        "with open('laptopsforsale.csv', mode = 'w', newline = '') as laptop_data_csv_file:\n",
        "\n",
        "  writer = csv.writer(laptop_data_csv_file)\n",
        "  writer.writerow((\"product_name\", \"price\", \"description\", \"num_reviews\", \"rating\")) # write a header row for csv file.\n",
        "\n",
        "  for laptop in laptops:\n",
        "\n",
        "      product_name = laptop.find(\"a\", class_=\"title\")['title'].strip()\n",
        "      price = laptop.find(\"h4\", class_=\"price float-end card-title pull-right\").text.strip()\n",
        "      description = laptop.find(\"p\", class_=\"description card-text\").text.strip()\n",
        "      num_reviews = laptop.find(\"p\", class_=\"review-count float-end\").text.strip()\n",
        "\n",
        "      rating_div = laptop.find(\"div\", class_=\"ratings\")\n",
        "      stars = rating_div.find_all(\"span\", class_=\"ws-icon ws-icon-star\")\n",
        "      rating = len(stars)\n",
        "\n",
        "      writer.writerow((product_name, price, description, num_reviews, rating)) # write data for each laptop on the website."
      ],
      "metadata": {
        "id": "iCqV4yi_G9pl"
      },
      "execution_count": null,
      "outputs": []
    },
    {
      "cell_type": "markdown",
      "source": [
        "#####The .csv file generated can be downloaded at any time (or whenever the website is updated with new tech) so that the information can be manipulated and displayed in the best way for customer experience."
      ],
      "metadata": {
        "id": "MXMblbVKSHce"
      }
    },
    {
      "cell_type": "code",
      "source": [
        "from google.colab import files\n",
        "files.download('laptopsforsale.csv')"
      ],
      "metadata": {
        "colab": {
          "base_uri": "https://localhost:8080/",
          "height": 17
        },
        "id": "LA1aDb4BLaZP",
        "outputId": "7a7b6a80-67dc-4d68-8c42-fa64d1a9e1d7"
      },
      "execution_count": null,
      "outputs": [
        {
          "output_type": "display_data",
          "data": {
            "text/plain": [
              "<IPython.core.display.Javascript object>"
            ],
            "application/javascript": [
              "\n",
              "    async function download(id, filename, size) {\n",
              "      if (!google.colab.kernel.accessAllowed) {\n",
              "        return;\n",
              "      }\n",
              "      const div = document.createElement('div');\n",
              "      const label = document.createElement('label');\n",
              "      label.textContent = `Downloading \"${filename}\": `;\n",
              "      div.appendChild(label);\n",
              "      const progress = document.createElement('progress');\n",
              "      progress.max = size;\n",
              "      div.appendChild(progress);\n",
              "      document.body.appendChild(div);\n",
              "\n",
              "      const buffers = [];\n",
              "      let downloaded = 0;\n",
              "\n",
              "      const channel = await google.colab.kernel.comms.open(id);\n",
              "      // Send a message to notify the kernel that we're ready.\n",
              "      channel.send({})\n",
              "\n",
              "      for await (const message of channel.messages) {\n",
              "        // Send a message to notify the kernel that we're ready.\n",
              "        channel.send({})\n",
              "        if (message.buffers) {\n",
              "          for (const buffer of message.buffers) {\n",
              "            buffers.push(buffer);\n",
              "            downloaded += buffer.byteLength;\n",
              "            progress.value = downloaded;\n",
              "          }\n",
              "        }\n",
              "      }\n",
              "      const blob = new Blob(buffers, {type: 'application/binary'});\n",
              "      const a = document.createElement('a');\n",
              "      a.href = window.URL.createObjectURL(blob);\n",
              "      a.download = filename;\n",
              "      div.appendChild(a);\n",
              "      a.click();\n",
              "      div.remove();\n",
              "    }\n",
              "  "
            ]
          },
          "metadata": {}
        },
        {
          "output_type": "display_data",
          "data": {
            "text/plain": [
              "<IPython.core.display.Javascript object>"
            ],
            "application/javascript": [
              "download(\"download_f0dcf6f2-9a25-460a-85f0-f00c7af491dc\", \"laptopsforsale.csv\", 16511)"
            ]
          },
          "metadata": {}
        }
      ]
    }
  ]
}